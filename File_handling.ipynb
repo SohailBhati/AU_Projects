{
  "nbformat": 4,
  "nbformat_minor": 0,
  "metadata": {
    "colab": {
      "provenance": []
    },
    "kernelspec": {
      "name": "python3",
      "display_name": "Python 3"
    },
    "language_info": {
      "name": "python"
    }
  },
  "cells": [
    {
      "cell_type": "code",
      "execution_count": null,
      "metadata": {
        "id": "8g5St-w3ubPE"
      },
      "outputs": [],
      "source": [
        "#sample\n",
        "f=open(\"sample.txt\",\"w\")"
      ]
    },
    {
      "cell_type": "code",
      "source": [
        "l=[\"hello world\" for i in range(20)]\n",
        "g=open(\"sample.txt\",\"w\")\n",
        "g.write(\"Sunita sister marriage\")\n",
        "g.write(\"\\n mithai nhi aai\")\n",
        "g.close()"
      ],
      "metadata": {
        "id": "R29AQtyRur3n"
      },
      "execution_count": null,
      "outputs": []
    },
    {
      "cell_type": "code",
      "source": [
        "g=open(\"sample.txt\",\"a\")\n",
        "g.write(\"\\n mithai nhi aai\")\n",
        "g.close()"
      ],
      "metadata": {
        "id": "-10_PGfNuwdT"
      },
      "execution_count": null,
      "outputs": []
    },
    {
      "cell_type": "code",
      "source": [
        "l"
      ],
      "metadata": {
        "colab": {
          "base_uri": "https://localhost:8080/"
        },
        "id": "cfBQoxWGva9S",
        "outputId": "f2a6e092-d627-474f-98ae-724523eca4a5"
      },
      "execution_count": null,
      "outputs": [
        {
          "output_type": "execute_result",
          "data": {
            "text/plain": [
              "['hello world',\n",
              " 'hello world',\n",
              " 'hello world',\n",
              " 'hello world',\n",
              " 'hello world',\n",
              " 'hello world',\n",
              " 'hello world',\n",
              " 'hello world',\n",
              " 'hello world',\n",
              " 'hello world',\n",
              " 'hello world',\n",
              " 'hello world',\n",
              " 'hello world',\n",
              " 'hello world',\n",
              " 'hello world',\n",
              " 'hello world',\n",
              " 'hello world',\n",
              " 'hello world',\n",
              " 'hello world',\n",
              " 'hello world']"
            ]
          },
          "metadata": {},
          "execution_count": 13
        }
      ]
    },
    {
      "cell_type": "code",
      "source": [
        "l=[\"hello world\",\"\\n I am Good\",\"\\n You are fine\",\"\\n everything good \"]\n",
        "g=open(\"sample.txt\",\"w\")\n",
        "g.writelines(l)\n",
        "g.close()\n"
      ],
      "metadata": {
        "id": "pf6MwZ1QwZAO"
      },
      "execution_count": null,
      "outputs": []
    },
    {
      "cell_type": "code",
      "source": [
        "f=open(\"sample.txt\",\"r\")\n",
        "data=f.read()\n",
        "print(data)\n",
        "f.close()"
      ],
      "metadata": {
        "colab": {
          "base_uri": "https://localhost:8080/"
        },
        "id": "1fUOtSdcwvh4",
        "outputId": "ce4f6322-be20-462f-cd8c-70353ac5ac5e"
      },
      "execution_count": null,
      "outputs": [
        {
          "output_type": "stream",
          "name": "stdout",
          "text": [
            "hello world\n",
            " I am Good\n",
            " You are fine\n",
            " everything good \n"
          ]
        }
      ]
    },
    {
      "cell_type": "code",
      "source": [
        "f=open(\"sample.txt\",\"r\")\n",
        "data=f.readlines()\n",
        "print(data)\n",
        "f.close()"
      ],
      "metadata": {
        "colab": {
          "base_uri": "https://localhost:8080/"
        },
        "id": "y033pcEWxcqn",
        "outputId": "536991c3-0b74-4560-991f-74db8753851d"
      },
      "execution_count": null,
      "outputs": [
        {
          "output_type": "stream",
          "name": "stdout",
          "text": [
            "['hello world\\n', ' I am Good\\n', ' You are fine\\n', ' everything good ']\n"
          ]
        }
      ]
    },
    {
      "cell_type": "code",
      "source": [
        "g=open(\"sample.txt\",\"r\")\n",
        "data=g.read(5)\n",
        "print(data,end=\"/\")\n",
        "data=g.read(5)\n",
        "print(data,end=\"/\")\n",
        "g.close()"
      ],
      "metadata": {
        "colab": {
          "base_uri": "https://localhost:8080/"
        },
        "id": "cOyZzpIRyBVB",
        "outputId": "da0ffa31-1911-4e34-9aad-4e04ff8e12db"
      },
      "execution_count": null,
      "outputs": [
        {
          "output_type": "stream",
          "name": "stdout",
          "text": [
            "hello/ worl/"
          ]
        }
      ]
    },
    {
      "cell_type": "code",
      "source": [
        "g = open(\"sample.txt\", \"r\")\n",
        "\n",
        "for i in range(2):\n",
        "    data = g.read(5)\n",
        "    print(data, end=\"/\")\n",
        "\n",
        "g.close()\n"
      ],
      "metadata": {
        "colab": {
          "base_uri": "https://localhost:8080/"
        },
        "id": "qT8QDxEB0Mnl",
        "outputId": "2e1e06d5-1f86-4287-859d-c2127a91d733"
      },
      "execution_count": null,
      "outputs": [
        {
          "output_type": "stream",
          "name": "stdout",
          "text": [
            "hello/ worl/"
          ]
        }
      ]
    },
    {
      "cell_type": "code",
      "source": [
        "g=open(\"sample.txt\",\"r\")\n",
        "while True:\n",
        "  data=g.read(5)\n",
        "  if not data:\n",
        "    break\n",
        "  print(data,end=\"/\")\n",
        "g.close()"
      ],
      "metadata": {
        "colab": {
          "base_uri": "https://localhost:8080/"
        },
        "id": "N3iqr47J1Nk_",
        "outputId": "99b95963-c4ec-4f2d-e3cb-52404447d2e7"
      },
      "execution_count": null,
      "outputs": [
        {
          "output_type": "stream",
          "name": "stdout",
          "text": [
            "hello/ worl/d\n",
            " I /am Go/od\n",
            " Y/ou ar/e fin/e\n",
            " ev/eryth/ing g/ood /"
          ]
        }
      ]
    },
    {
      "cell_type": "markdown",
      "source": [
        "#with Context Management"
      ],
      "metadata": {
        "id": "DkX1220F2xZO"
      }
    },
    {
      "cell_type": "code",
      "source": [
        "d={\"a\":1,\"b\":2,\"c\":3}"
      ],
      "metadata": {
        "id": "jYR0HKWX4OCx"
      },
      "execution_count": null,
      "outputs": []
    },
    {
      "cell_type": "code",
      "source": [
        "with open(\"sample2.txt\",\"w\") as file:\n",
        "    file.write(\"Hi Hello\")\n",
        "    file.write(\"testing\")"
      ],
      "metadata": {
        "id": "uYlXa7Wr2U-b"
      },
      "execution_count": null,
      "outputs": []
    },
    {
      "cell_type": "code",
      "source": [
        "with open(\"sample2.txt\",\"w\") as file:\n",
        "\n",
        "  file.write(str(d))"
      ],
      "metadata": {
        "id": "swScsxhu2mnB"
      },
      "execution_count": null,
      "outputs": []
    },
    {
      "cell_type": "code",
      "source": [
        "with open(\"sample2.txt\",\"r\") as file:\n",
        "    data=file.read()\n",
        "    print(data)"
      ],
      "metadata": {
        "colab": {
          "base_uri": "https://localhost:8080/"
        },
        "id": "dAXCdpqs3Iiw",
        "outputId": "b801bd9e-02ef-4c73-c2ad-ccb4868795cf"
      },
      "execution_count": null,
      "outputs": [
        {
          "output_type": "stream",
          "name": "stdout",
          "text": [
            "{'a': 1, 'b': 2, 'c': 3}\n"
          ]
        }
      ]
    },
    {
      "cell_type": "markdown",
      "source": [
        "#JSON"
      ],
      "metadata": {
        "id": "r44DAwdI5BIO"
      }
    },
    {
      "cell_type": "code",
      "source": [
        "import json"
      ],
      "metadata": {
        "id": "FyJlziwk4DGX"
      },
      "execution_count": null,
      "outputs": []
    },
    {
      "cell_type": "code",
      "source": [
        "with open(\"test.json\",\"w\") as file:\n",
        "    json.dump(d,file) #dump used for write in the file"
      ],
      "metadata": {
        "id": "0huevD3-5H1D"
      },
      "execution_count": null,
      "outputs": []
    },
    {
      "cell_type": "code",
      "source": [
        "with open(\"test.json\",\"r\") as file:\n",
        "    data=json.load(file) #load used for read in the file"
      ],
      "metadata": {
        "id": "Tp69lEht5bHk"
      },
      "execution_count": null,
      "outputs": []
    },
    {
      "cell_type": "code",
      "source": [
        "print(data)"
      ],
      "metadata": {
        "colab": {
          "base_uri": "https://localhost:8080/"
        },
        "id": "t2zkpNmg5t41",
        "outputId": "35508798-d9fb-44fd-a1ef-b2a59cac6307"
      },
      "execution_count": null,
      "outputs": [
        {
          "output_type": "stream",
          "name": "stdout",
          "text": [
            "{'a': 1, 'b': 2, 'c': 3}\n"
          ]
        }
      ]
    },
    {
      "cell_type": "code",
      "source": [
        "data[\"a\"]"
      ],
      "metadata": {
        "colab": {
          "base_uri": "https://localhost:8080/"
        },
        "id": "X7I1WCYp5v1q",
        "outputId": "8572a0d1-d60b-4771-a83d-ff8188330b3c"
      },
      "execution_count": null,
      "outputs": [
        {
          "output_type": "execute_result",
          "data": {
            "text/plain": [
              "1"
            ]
          },
          "metadata": {},
          "execution_count": 17
        }
      ]
    },
    {
      "cell_type": "markdown",
      "source": [
        "#Serialization in json\n",
        "#Deserialization in json\n"
      ],
      "metadata": {
        "id": "axI81QSZ735p"
      }
    },
    {
      "cell_type": "code",
      "source": [
        "with open(\"Ronaldo.jpg\",\"rb\") as file:\n",
        "  x=file.read()\n",
        "with open(\"Ronaldo2.jpg\",\"wb\") as file:\n",
        "  file.write(x)"
      ],
      "metadata": {
        "id": "EBV6rmR75zi6"
      },
      "execution_count": null,
      "outputs": []
    },
    {
      "cell_type": "markdown",
      "source": [
        "#Pickle"
      ],
      "metadata": {
        "id": "pYniv74j9_Tc"
      }
    },
    {
      "cell_type": "code",
      "source": [
        "#pickling\n",
        "class Machinemodel:\n",
        "  def __init__(self,name):\n",
        "    self.name=name\n",
        "  def predict(self,x,y):\n",
        "    return x+y"
      ],
      "metadata": {
        "id": "s4KrCLYj9EAC"
      },
      "execution_count": null,
      "outputs": []
    },
    {
      "cell_type": "code",
      "source": [
        "m=Machinemodel(\"linear\")"
      ],
      "metadata": {
        "id": "SxiWzqlv-iCK"
      },
      "execution_count": null,
      "outputs": []
    },
    {
      "cell_type": "code",
      "source": [
        "m.predict(6,7)"
      ],
      "metadata": {
        "colab": {
          "base_uri": "https://localhost:8080/"
        },
        "id": "ZEiEJhiN-lzG",
        "outputId": "4c5a27b0-a6dc-4836-faaa-2029b7528aee"
      },
      "execution_count": null,
      "outputs": [
        {
          "output_type": "execute_result",
          "data": {
            "text/plain": [
              "13"
            ]
          },
          "metadata": {},
          "execution_count": 22
        }
      ]
    },
    {
      "cell_type": "code",
      "source": [
        "import pickle"
      ],
      "metadata": {
        "id": "756w9zdt-uHn"
      },
      "execution_count": null,
      "outputs": []
    },
    {
      "cell_type": "code",
      "source": [
        "with open(\"test.pkl\",\"wb\") as file:\n",
        "  pickle.dump(m,file)"
      ],
      "metadata": {
        "id": "wMBewyei-2I8"
      },
      "execution_count": null,
      "outputs": []
    },
    {
      "cell_type": "code",
      "source": [
        "with open(\"test.pkl\",\"rb\") as file:\n",
        "  n1 = pickle.load(file)"
      ],
      "metadata": {
        "id": "8LjXhBp2_OIP"
      },
      "execution_count": null,
      "outputs": []
    },
    {
      "cell_type": "code",
      "source": [
        "print(n1)"
      ],
      "metadata": {
        "colab": {
          "base_uri": "https://localhost:8080/"
        },
        "id": "spf8aJRe_4Ce",
        "outputId": "17e7b29e-d7dc-4a20-a469-69c297d81e0b"
      },
      "execution_count": null,
      "outputs": [
        {
          "output_type": "stream",
          "name": "stdout",
          "text": [
            "<__main__.Machinemodel object at 0x7da6d1a842d0>\n"
          ]
        }
      ]
    },
    {
      "cell_type": "code",
      "source": [
        "n1.predict(3,4)"
      ],
      "metadata": {
        "colab": {
          "base_uri": "https://localhost:8080/"
        },
        "id": "G5zW61Gz_60V",
        "outputId": "f02814fb-4987-45ae-9127-93819518f316"
      },
      "execution_count": null,
      "outputs": [
        {
          "output_type": "execute_result",
          "data": {
            "text/plain": [
              "7"
            ]
          },
          "metadata": {},
          "execution_count": 27
        }
      ]
    },
    {
      "cell_type": "markdown",
      "source": [
        "#seek and tell"
      ],
      "metadata": {
        "id": "-jvKIof_F-NB"
      }
    },
    {
      "cell_type": "code",
      "source": [
        "with open(\"new.txt\",\"w\") as f:\n",
        "  f.write(\"Hello I am Sohail\")"
      ],
      "metadata": {
        "id": "Ya9TCgZlF6an"
      },
      "execution_count": null,
      "outputs": []
    },
    {
      "cell_type": "code",
      "source": [
        "with open(\"new.txt\",\"r\") as f:\n",
        "  f.seek(2)\n",
        "  print(f.tell())\n",
        "  m=f.read()\n",
        "  print(f.tell())"
      ],
      "metadata": {
        "colab": {
          "base_uri": "https://localhost:8080/"
        },
        "id": "rUSvG1ZaGkXM",
        "outputId": "968b9f1e-bba4-4a97-fdc8-74da952950f6"
      },
      "execution_count": null,
      "outputs": [
        {
          "output_type": "stream",
          "name": "stdout",
          "text": [
            "2\n",
            "17\n"
          ]
        }
      ]
    },
    {
      "cell_type": "code",
      "source": [
        "print(m)"
      ],
      "metadata": {
        "colab": {
          "base_uri": "https://localhost:8080/"
        },
        "id": "ccLDl3TeG35P",
        "outputId": "6b511422-df67-4a2b-acc3-8511b10a91f7"
      },
      "execution_count": null,
      "outputs": [
        {
          "output_type": "stream",
          "name": "stdout",
          "text": [
            "llo I am Sohail\n"
          ]
        }
      ]
    },
    {
      "cell_type": "code",
      "source": [
        "with open(\"new2.txt\",\"w\") as f:\n",
        "  f.write(\"Hello I am Sohail\")\n",
        "  f.seek(0)\n",
        "  f.write(\"Xa\")"
      ],
      "metadata": {
        "id": "M1bGOHt_G5oa"
      },
      "execution_count": null,
      "outputs": []
    },
    {
      "cell_type": "markdown",
      "source": [
        "#Higher Order Function\n",
        "#lambda\n",
        "#map\n",
        "#reduce\n",
        "#filter"
      ],
      "metadata": {
        "id": "iw4NCMFCBdRo"
      }
    },
    {
      "cell_type": "markdown",
      "source": [
        "#Lambda()"
      ],
      "metadata": {
        "id": "c1FUALkkDhLc"
      }
    },
    {
      "cell_type": "code",
      "source": [
        "m=lambda a,b,c : a+b+c"
      ],
      "metadata": {
        "id": "wDCrksI3INGu"
      },
      "execution_count": null,
      "outputs": []
    },
    {
      "cell_type": "code",
      "source": [
        "m(3,4,5)"
      ],
      "metadata": {
        "colab": {
          "base_uri": "https://localhost:8080/"
        },
        "id": "CLQDKby7CF2n",
        "outputId": "2d087a07-4a74-4d3c-bab1-7af74b862edc"
      },
      "execution_count": null,
      "outputs": [
        {
          "output_type": "execute_result",
          "data": {
            "text/plain": [
              "12"
            ]
          },
          "metadata": {},
          "execution_count": 2
        }
      ]
    },
    {
      "cell_type": "code",
      "source": [
        "m=lambda a,b : a+b if a>b else(a-b)"
      ],
      "metadata": {
        "id": "f4is5aVICI-x"
      },
      "execution_count": null,
      "outputs": []
    },
    {
      "cell_type": "code",
      "source": [
        "m(3,4)"
      ],
      "metadata": {
        "colab": {
          "base_uri": "https://localhost:8080/"
        },
        "id": "VCOpnZ04CgOY",
        "outputId": "a040ad76-42ae-42d4-e4c1-2bbe1c6b80ab"
      },
      "execution_count": null,
      "outputs": [
        {
          "output_type": "execute_result",
          "data": {
            "text/plain": [
              "-1"
            ]
          },
          "metadata": {},
          "execution_count": 4
        }
      ]
    },
    {
      "cell_type": "markdown",
      "source": [
        "#Map()"
      ],
      "metadata": {
        "id": "aWZcfNuvDY_N"
      }
    },
    {
      "cell_type": "code",
      "source": [
        "def square(x):\n",
        "  return x*x"
      ],
      "metadata": {
        "id": "xfFQh3HsChoK"
      },
      "execution_count": null,
      "outputs": []
    },
    {
      "cell_type": "code",
      "source": [
        "list45=[3,4,5,6,7]"
      ],
      "metadata": {
        "id": "ZQDrkNVaDXg3"
      },
      "execution_count": null,
      "outputs": []
    },
    {
      "cell_type": "code",
      "source": [
        "y=map(square,list45)"
      ],
      "metadata": {
        "id": "nIOl6bQmD6FR"
      },
      "execution_count": null,
      "outputs": []
    },
    {
      "cell_type": "code",
      "source": [
        "[*y]"
      ],
      "metadata": {
        "colab": {
          "base_uri": "https://localhost:8080/"
        },
        "id": "IgZk8EghEB18",
        "outputId": "682aeccf-3764-4ffb-965a-806d248d83af"
      },
      "execution_count": null,
      "outputs": [
        {
          "output_type": "execute_result",
          "data": {
            "text/plain": [
              "[9, 16, 25, 36, 49]"
            ]
          },
          "metadata": {},
          "execution_count": 10
        }
      ]
    },
    {
      "cell_type": "code",
      "source": [
        "n=map(lambda x:x*x,list45)"
      ],
      "metadata": {
        "id": "HYACFOuuEEVx"
      },
      "execution_count": null,
      "outputs": []
    },
    {
      "cell_type": "code",
      "source": [
        "[*n]"
      ],
      "metadata": {
        "colab": {
          "base_uri": "https://localhost:8080/"
        },
        "id": "V9BXO3-YENN8",
        "outputId": "e25ef464-642b-4a99-da78-26691eae0670"
      },
      "execution_count": null,
      "outputs": [
        {
          "output_type": "execute_result",
          "data": {
            "text/plain": [
              "[9, 16, 25, 36, 49]"
            ]
          },
          "metadata": {},
          "execution_count": 12
        }
      ]
    },
    {
      "cell_type": "code",
      "source": [
        "n=map(lambda x: \"even\" if x%2==0 else \"odd\",list45)"
      ],
      "metadata": {
        "id": "jhARUitiEO4t"
      },
      "execution_count": null,
      "outputs": []
    },
    {
      "cell_type": "code",
      "source": [
        "[*n]"
      ],
      "metadata": {
        "colab": {
          "base_uri": "https://localhost:8080/"
        },
        "id": "4NgLQaXkFDL6",
        "outputId": "3d9748f4-b5c6-46dc-b2a0-cf551d1b4c66"
      },
      "execution_count": null,
      "outputs": [
        {
          "output_type": "execute_result",
          "data": {
            "text/plain": [
              "['odd', 'even', 'odd', 'even', 'odd']"
            ]
          },
          "metadata": {},
          "execution_count": 18
        }
      ]
    },
    {
      "cell_type": "code",
      "source": [
        "list=[\"Hello\",\"Hi\",\"How\"]"
      ],
      "metadata": {
        "id": "pu0kzr0wGL7t"
      },
      "execution_count": null,
      "outputs": []
    },
    {
      "cell_type": "code",
      "source": [
        "m=map(lambda x:len(x),list)"
      ],
      "metadata": {
        "id": "oZLC02arGYdR"
      },
      "execution_count": null,
      "outputs": []
    },
    {
      "cell_type": "code",
      "source": [
        "[*m]"
      ],
      "metadata": {
        "colab": {
          "base_uri": "https://localhost:8080/"
        },
        "id": "xIGfG4lNGlt0",
        "outputId": "2bf70d3b-2716-4e9a-b51a-9c697e79d25e"
      },
      "execution_count": null,
      "outputs": [
        {
          "output_type": "execute_result",
          "data": {
            "text/plain": [
              "[5, 2, 3]"
            ]
          },
          "metadata": {},
          "execution_count": 21
        }
      ]
    },
    {
      "cell_type": "markdown",
      "source": [
        "#Reduce()"
      ],
      "metadata": {
        "id": "bPrvnPcXF9bD"
      }
    },
    {
      "cell_type": "code",
      "source": [
        "from functools import reduce"
      ],
      "metadata": {
        "id": "-mYFkYaKFG1z"
      },
      "execution_count": null,
      "outputs": []
    },
    {
      "cell_type": "code",
      "source": [
        "reduce(lambda x,y:x+y,list45)"
      ],
      "metadata": {
        "colab": {
          "base_uri": "https://localhost:8080/"
        },
        "id": "Jnd3TAvlHO_g",
        "outputId": "08de3095-c6c5-4ad1-d4c9-fd6289e70478"
      },
      "execution_count": null,
      "outputs": [
        {
          "output_type": "execute_result",
          "data": {
            "text/plain": [
              "25"
            ]
          },
          "metadata": {},
          "execution_count": 24
        }
      ]
    },
    {
      "cell_type": "code",
      "source": [
        "reduce(lambda x,y:2 if isinstance(x,str) else x+1,list)"
      ],
      "metadata": {
        "colab": {
          "base_uri": "https://localhost:8080/"
        },
        "id": "UeZhXkUvKzUU",
        "outputId": "d4bcc267-bed9-4d30-ceaf-fde463875057"
      },
      "execution_count": null,
      "outputs": [
        {
          "output_type": "execute_result",
          "data": {
            "text/plain": [
              "3"
            ]
          },
          "metadata": {},
          "execution_count": 27
        }
      ]
    },
    {
      "cell_type": "code",
      "source": [
        "reduce(lambda x,y: x + 1, list, 0)"
      ],
      "metadata": {
        "colab": {
          "base_uri": "https://localhost:8080/"
        },
        "id": "7VVlLCslIGxR",
        "outputId": "e7782ad3-d6a9-47e9-f672-46e5f8e755ee"
      },
      "execution_count": null,
      "outputs": [
        {
          "output_type": "execute_result",
          "data": {
            "text/plain": [
              "3"
            ]
          },
          "metadata": {},
          "execution_count": 28
        }
      ]
    },
    {
      "cell_type": "markdown",
      "source": [
        "#Filter()"
      ],
      "metadata": {
        "id": "Tum_oGuuL5yC"
      }
    },
    {
      "cell_type": "code",
      "source": [
        "def test(x):\n",
        "  if x%2==0:\n",
        "    return True\n",
        "  else:\n",
        "    False"
      ],
      "metadata": {
        "id": "CqlWeF0lKnqt"
      },
      "execution_count": null,
      "outputs": []
    },
    {
      "cell_type": "code",
      "source": [
        "[*filter(test,list45)]"
      ],
      "metadata": {
        "colab": {
          "base_uri": "https://localhost:8080/"
        },
        "id": "xgYObAr7Mi1j",
        "outputId": "4f0eb6a7-95a8-43a4-f638-e3b41f1461f7"
      },
      "execution_count": null,
      "outputs": [
        {
          "output_type": "execute_result",
          "data": {
            "text/plain": [
              "[4, 6]"
            ]
          },
          "metadata": {},
          "execution_count": 34
        }
      ]
    },
    {
      "cell_type": "code",
      "source": [
        "list45"
      ],
      "metadata": {
        "colab": {
          "base_uri": "https://localhost:8080/"
        },
        "id": "rAjWbqJfNECp",
        "outputId": "f2e5564f-6a66-471b-fd57-74a41e7cd8aa"
      },
      "execution_count": null,
      "outputs": [
        {
          "output_type": "execute_result",
          "data": {
            "text/plain": [
              "[3, 4, 5, 6, 7]"
            ]
          },
          "metadata": {},
          "execution_count": 35
        }
      ]
    },
    {
      "cell_type": "code",
      "source": [
        "[*filter(lambda x:True if x%2==0 else False,list45)]"
      ],
      "metadata": {
        "colab": {
          "base_uri": "https://localhost:8080/"
        },
        "id": "0DGm7NvbNJOy",
        "outputId": "9fc5370a-bf83-47c0-d4b8-a5f24b6f0a74"
      },
      "execution_count": null,
      "outputs": [
        {
          "output_type": "execute_result",
          "data": {
            "text/plain": [
              "[4, 6]"
            ]
          },
          "metadata": {},
          "execution_count": 36
        }
      ]
    },
    {
      "cell_type": "code",
      "source": [],
      "metadata": {
        "id": "BtTbJHAFNZk_"
      },
      "execution_count": null,
      "outputs": []
    }
  ]
}